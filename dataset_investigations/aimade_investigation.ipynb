{
 "cells": [
  {
   "cell_type": "code",
   "execution_count": 13,
   "metadata": {},
   "outputs": [],
   "source": [
    "import sys\n",
    "\n",
    "sys.path.append(\"..\")\n",
    "import os\n",
    "import pickle\n",
    "\n",
    "import torch\n",
    "from dotenv import load_dotenv\n",
    "from huggingface_hub import login\n",
    "from nnsight import LanguageModel\n",
    "from tqdm import tqdm\n",
    "\n",
    "from utils_data import get_dataset_sizes, get_xy_traintest\n",
    "from utils_training import find_best_reg\n",
    "\n",
    "load_dotenv()\n",
    "from os import getenv\n",
    "\n",
    "HF_TOKEN = getenv(\"HF_TOKEN\")"
   ]
  },
  {
   "cell_type": "markdown",
   "metadata": {},
   "source": [
    "# This file tests the baseline classifier on 110_human_aimade\n",
    "We find that while the SAE probes identify spurious punctuation features, our baseline \n",
    "classifier also primarily activates on punctuation."
   ]
  },
  {
   "cell_type": "code",
   "execution_count": 11,
   "metadata": {},
   "outputs": [
    {
     "name": "stderr",
     "output_type": "stream",
     "text": [
      "Using the latest cached version of the dataset since NeelNanda/pile-10k couldn't be found on the Hugging Face Hub\n",
      "Found the latest cached dataset configuration 'default' at /home/subhashk/.cache/huggingface/datasets/NeelNanda___pile-10k/default/0.0.0/127bfedcd5047750df5ccf3a12979a47bfa0bafa (last modified on Sun Feb 23 15:51:29 2025).\n"
     ]
    }
   ],
   "source": [
    "from datasets import load_dataset\n",
    "\n",
    "dataset = load_dataset(\"NeelNanda/pile-10k\", split=\"train\")\n",
    "df = dataset.to_pandas()"
   ]
  },
  {
   "cell_type": "code",
   "execution_count": null,
   "metadata": {},
   "outputs": [],
   "source": [
    "def find_classifier(layer=20, model_name=\"gemma-2-9b\"):\n",
    "    dataset = \"110_aimade_humangpt3\"\n",
    "    dataset_sizes = get_dataset_sizes()\n",
    "    size = dataset_sizes[dataset]\n",
    "    num_train = min(size - 100, 1024)\n",
    "    X_train, y_train, X_test, y_test = get_xy_traintest(\n",
    "        num_train, dataset, layer, model_name=model_name\n",
    "    )\n",
    "    _, classifier = find_best_reg(\n",
    "        X_train, y_train, X_test, y_test, return_classifier=True\n",
    "    )\n",
    "    # Create directory if it doesn't exist\n",
    "    os.makedirs(\"results/investigate\", exist_ok=True)\n",
    "    # Save classifier\n",
    "    with open(f\"results/investigate/{dataset}/{dataset}_classifier.pkl\", \"wb\") as f:\n",
    "        pickle.dump(classifier, f)\n",
    "    return classifier\n",
    "\n",
    "\n",
    "def load_classifier_weights(dataset=\"110_aimade_humangpt3\"):\n",
    "    \"\"\"Load saved classifier from disk and return its weights\"\"\"\n",
    "    with open(f\"results/investigate/{dataset}/{dataset}_classifier.pkl\", \"rb\") as f:\n",
    "        classifier = pickle.load(f)\n",
    "    return torch.tensor(classifier.coef_[0])\n",
    "\n",
    "\n",
    "classifier = load_classifier_weights()\n",
    "classifier"
   ]
  },
  {
   "cell_type": "code",
   "execution_count": null,
   "metadata": {},
   "outputs": [],
   "source": [
    "# Load model# Set the token as an environment variable\n",
    "os.environ[\"HUGGINGFACE_TOKEN\"] = HF_TOKEN\n",
    "login(token=os.environ[\"HUGGINGFACE_TOKEN\"])\n",
    "device = torch.device(\"cuda:1\" if torch.cuda.is_available() else \"cpu\")\n",
    "full_model_name = \"google/gemma-2-9b\"  #'EleutherAI/gpt-j-6B'#'meta-llama/Llama-3.1-8B'#'EleutherAI/gpt-j-6B' #'EleutherAI/pythia-6.9b'## # ##'##\n",
    "MODEL_NAME = full_model_name.split(\"/\")[-1]\n",
    "model = LanguageModel(\n",
    "    full_model_name, device_map=device, torch_dtype=torch.bfloat16, dispatch=True\n",
    ")\n",
    "remote = False\n",
    "NLAYERS = model.config.num_hidden_layers"
   ]
  },
  {
   "cell_type": "code",
   "execution_count": null,
   "metadata": {},
   "outputs": [],
   "source": [
    "def get_texts():\n",
    "    texts = list(df[\"text\"])\n",
    "    return texts\n",
    "\n",
    "\n",
    "def get_tokens():\n",
    "    texts = get_texts()\n",
    "    toks = []\n",
    "    tok_strings = []\n",
    "    max_seq_len = 1024\n",
    "    skipped = 0\n",
    "    for text in tqdm(texts):\n",
    "        q_toks = model.tokenizer(text)[\"input_ids\"]\n",
    "        if len(q_toks) > max_seq_len:\n",
    "            # print(f\"Warning: Sequence length {len(q_toks)} exceeds max length {max_seq_len}\")\n",
    "            skipped += 1\n",
    "            continue\n",
    "        toks.append(q_toks)\n",
    "        # Get token strings\n",
    "        tok_str = model.tokenizer.convert_ids_to_tokens(q_toks)\n",
    "        tok_strings.append(tok_str)\n",
    "    # Create directory if it doesn't exist\n",
    "    os.makedirs(\"results/investigate\", exist_ok=True)\n",
    "    # Save tokens and token strings\n",
    "    torch.save(toks, \"results/investigate/110_aimade_humangpt3_tokens.pt\")\n",
    "    torch.save(tok_strings, \"results/investigate/110_aimade_humangpt3_token_strings.pt\")\n",
    "    print(skipped)\n",
    "    return toks, tok_strings\n",
    "\n",
    "\n",
    "get_tokens()"
   ]
  },
  {
   "cell_type": "code",
   "execution_count": null,
   "metadata": {},
   "outputs": [],
   "source": [
    "def load_tokens():\n",
    "    \"\"\"Load saved tokens from disk\"\"\"\n",
    "    return torch.load(\n",
    "        \"results/investigate/110_aimade_humangpt3_tokens.pt\", weights_only=False\n",
    "    )\n",
    "\n",
    "\n",
    "def load_token_strings():\n",
    "    \"\"\"Load saved token strings from disk\"\"\"\n",
    "    return torch.load(\n",
    "        \"results/investigate/110_aimade_humangpt3_token_strings.pt\", weights_only=False\n",
    "    )"
   ]
  },
  {
   "cell_type": "code",
   "execution_count": null,
   "metadata": {},
   "outputs": [],
   "source": [
    "def get_dot_products():\n",
    "    tokens = load_tokens()\n",
    "    classifier = load_classifier_weights()\n",
    "    token_strs = load_token_strings()\n",
    "    token_val = {}\n",
    "    with torch.no_grad():\n",
    "        bar = tqdm(tokens)\n",
    "        i = 0\n",
    "        for token in bar:\n",
    "            with model.trace(validate=False, remote=remote) as tracer:\n",
    "                with tracer.invoke(token, scan=False):\n",
    "                    hs = model.model.layers[20].output[0][0].save()\n",
    "            token_str = token_strs[i]\n",
    "            # Calculate dot product between classifier and hidden states\n",
    "            dot_products = torch.matmul(hs.float(), classifier.to(\"cuda:1\").float())\n",
    "            # Add values to dictionary\n",
    "            for j, tok in enumerate(token_str):\n",
    "                if tok not in token_val:\n",
    "                    token_val[tok] = []\n",
    "                token_val[tok].append(dot_products[j].cpu().item())\n",
    "            i += 1\n",
    "            # Find token with highest mean dot product\n",
    "            max_tok = max(\n",
    "                token_val.items(),\n",
    "                key=lambda x: sum(x[1]) / len(x[1]) if len(x[1]) > 0 else float(\"-inf\"),\n",
    "            )[0]\n",
    "            bar.set_postfix({\"max_tok\": max_tok})\n",
    "            if i % 100 == 0:\n",
    "                os.makedirs(\"results/investigate/110_aimade_humangpt3\", exist_ok=True)\n",
    "                torch.save(\n",
    "                    token_val,\n",
    "                    \"results/investigate/110_aimade_humangpt3/token_values.pt\",\n",
    "                )\n",
    "\n",
    "    # Save token values\n",
    "    os.makedirs(\"results/investigate/110_aimade_humangpt3\", exist_ok=True)\n",
    "    torch.save(token_val, \"results/investigate/110_aimade_humangpt3/token_values.pt\")\n",
    "    return token_val\n",
    "\n",
    "\n",
    "get_dot_products()"
   ]
  },
  {
   "cell_type": "markdown",
   "metadata": {},
   "source": [
    "# Here we print data for Table 8"
   ]
  },
  {
   "cell_type": "code",
   "execution_count": 14,
   "metadata": {},
   "outputs": [
    {
     "name": "stdout",
     "output_type": "stream",
     "text": [
      "Total tokens processed 2833414\n",
      "Total unique tokens: 93100\n",
      "\n",
      "Token                Mean Activation  Occurrences\n",
      "-----------------------------------------------\n",
      "<bos>                         6.8863         7625\n",
      "!).                           6.2529           10\n",
      "Q                             6.2271         1436\n",
      "”.                            6.0338          144\n",
      ".”                            5.9111          975\n",
      ".).                           5.7334           24\n",
      "﻿                             5.5035           17\n",
      ".\"                            5.4455         1057\n",
      "\".                            5.4132          319\n",
      "}$.                           5.3990           24\n"
     ]
    }
   ],
   "source": [
    "t = torch.load(\n",
    "    \"../results/investigate/110_aimade_humangpt3/token_values.pt\", weights_only=False\n",
    ")\n",
    "\n",
    "# Calculate total number of unique tokens\n",
    "total_tokens = len(t.keys())\n",
    "summ = 0\n",
    "for key in t.keys():\n",
    "    summ += len(t[key])\n",
    "print(\"Total tokens processed\", summ)\n",
    "# Calculate mean for each key and sort\n",
    "means = {k: torch.mean(torch.tensor(v)).item() for k, v in t.items() if len(t[k]) >= 10}\n",
    "sorted_keys = sorted(means.items(), key=lambda x: x[1], reverse=True)\n",
    "\n",
    "# Print total token count\n",
    "print(f\"Total unique tokens: {total_tokens}\\n\")\n",
    "\n",
    "# Print table header\n",
    "print(f\"{'Token':<20} {'Mean Activation':>15} {'Occurrences':>12}\")\n",
    "print(\"-\" * 47)\n",
    "\n",
    "# Print top 10 tokens\n",
    "for key, mean in sorted_keys[:10]:\n",
    "    print(f\"{key:<20} {mean:>15.4f} {len(t[key]):>12}\")"
   ]
  }
 ],
 "metadata": {
  "kernelspec": {
   "display_name": "SAEProbing",
   "language": "python",
   "name": "python3"
  },
  "language_info": {
   "codemirror_mode": {
    "name": "ipython",
    "version": 3
   },
   "file_extension": ".py",
   "mimetype": "text/x-python",
   "name": "python",
   "nbconvert_exporter": "python",
   "pygments_lexer": "ipython3",
   "version": "3.12.3"
  }
 },
 "nbformat": 4,
 "nbformat_minor": 2
}

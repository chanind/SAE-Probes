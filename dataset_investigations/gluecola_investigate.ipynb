{
 "cells": [
  {
   "cell_type": "code",
   "execution_count": 15,
   "metadata": {},
   "outputs": [],
   "source": [
    "import sys\n",
    "\n",
    "sys.path.append(\"..\")\n",
    "import os\n",
    "\n",
    "import matplotlib.pyplot as plt\n",
    "import numpy as np\n",
    "import pandas as pd\n",
    "import requests\n",
    "import torch\n",
    "from dotenv import load_dotenv\n",
    "from tqdm import tqdm\n",
    "from transformer_lens import HookedTransformer\n",
    "\n",
    "from utils_data import get_disagree_glue, get_xy_glue\n",
    "from utils_sae import get_gemma_2_9b_sae_ids_largest_l0s, load_gemma_2_9b_sae\n",
    "\n",
    "load_dotenv()\n",
    "from os import getenv\n",
    "\n",
    "HF_TOKEN = getenv(\"HF_TOKEN\")\n",
    "OPENROUTER_KEY = getenv(\"OPENROUTER_KEY\")\n",
    "\n",
    "plt.rcParams.update(\n",
    "    {\n",
    "        \"font.size\": 6,  # Default text size\n",
    "        \"axes.titlesize\": 6,  # Title size for axes\n",
    "        \"axes.labelsize\": 6,  # Axis label size\n",
    "        \"xtick.labelsize\": 6,  # X-axis tick label size\n",
    "        \"ytick.labelsize\": 6,  # Y-axis tick label size\n",
    "        \"legend.fontsize\": 6,  # Legend font size\n",
    "        \"figure.titlesize\": 6,  # Overall figure title size\n",
    "    }\n",
    ")"
   ]
  },
  {
   "cell_type": "markdown",
   "metadata": {},
   "source": [
    "This file plots the GLUE CoLA results. It also has functionality to create the cleaned, ensembled dataset using LLM judges"
   ]
  },
  {
   "cell_type": "markdown",
   "metadata": {},
   "source": [
    "# Make GLUE CoLA plot"
   ]
  },
  {
   "cell_type": "code",
   "execution_count": null,
   "metadata": {},
   "outputs": [
    {
     "data": {
      "image/png": "[encoded data removed]",
      "text/plain": [
       "<Figure size 325x120 with 1 Axes>"
      ]
     },
     "metadata": {},
     "output_type": "display_data"
    }
   ],
   "source": [
    "def get_results():\n",
    "    df = pd.read_csv(\"../results/investigate/87_glue_cola_investigate_probes.csv\")\n",
    "    return df\n",
    "\n",
    "\n",
    "def plot_results():\n",
    "    df = get_results()\n",
    "    original_labels = [1, 1 - len(get_disagree_glue(\"..\")) / 1000, 0]\n",
    "\n",
    "    # Set up the plot\n",
    "    plt.figure(figsize=(3.25, 1.2))\n",
    "\n",
    "    # Set width of bars and positions of the bars\n",
    "    width = 0.2  # Reduced from 0.25 to fit 4 bars\n",
    "    x = np.arange(3)  # 3 run numbers\n",
    "\n",
    "    # Create bars for each run_type\n",
    "    baseline_vals = df[df[\"run_type\"] == \"baseline\"][\"test_acc\"]\n",
    "    sae128_vals = df[df[\"run_type\"] == \"sae_128\"][\"test_acc\"]\n",
    "    sae1_vals = df[df[\"run_type\"] == \"sae_1\"][\"test_acc\"]\n",
    "\n",
    "    # Plot original labels first\n",
    "    plt.bar(\n",
    "        x - 1.5 * width,\n",
    "        original_labels,\n",
    "        width,\n",
    "        label=\"Original Labels\",\n",
    "        alpha=0.8,\n",
    "        color=\"black\",\n",
    "        hatch=\"///\",\n",
    "    )\n",
    "    plt.bar(x - 0.5 * width, baseline_vals, width, label=\"Baseline\", alpha=1.0)\n",
    "    plt.bar(x + 0.5 * width, sae128_vals, width, label=\"SAE (k=128)\", alpha=1.0)\n",
    "    plt.bar(x + 1.5 * width, sae1_vals, width, label=\"Latent 369585\", alpha=1.0)\n",
    "\n",
    "    # Add value labels on top of each bar\n",
    "    for i in range(len(x)):\n",
    "        plt.text(\n",
    "            x[i] - 1.5 * width,\n",
    "            original_labels[i],\n",
    "            f\"{original_labels[i]:.2f}\",\n",
    "            ha=\"center\",\n",
    "            va=\"bottom\",\n",
    "            fontsize=5,\n",
    "        )\n",
    "        plt.text(\n",
    "            x[i] - 0.5 * width,\n",
    "            baseline_vals.iloc[i],\n",
    "            f\"{baseline_vals.iloc[i]:.2f}\",\n",
    "            ha=\"center\",\n",
    "            va=\"bottom\",\n",
    "            fontsize=5,\n",
    "        )\n",
    "        plt.text(\n",
    "            x[i] + 0.5 * width,\n",
    "            sae128_vals.iloc[i],\n",
    "            f\"{sae128_vals.iloc[i]:.2f}\",\n",
    "            ha=\"center\",\n",
    "            va=\"bottom\",\n",
    "            fontsize=5,\n",
    "        )\n",
    "        plt.text(\n",
    "            x[i] + 1.5 * width,\n",
    "            sae1_vals.iloc[i],\n",
    "            f\"{sae1_vals.iloc[i]:.2f}\",\n",
    "            ha=\"center\",\n",
    "            va=\"bottom\",\n",
    "            fontsize=5,\n",
    "        )\n",
    "\n",
    "    # Customize the plot\n",
    "    plt.ylabel(\"Test Accuracy\")\n",
    "    plt.xticks(x, [\"CoLA Labels\", \"Clean Labels\", \"Mislabeled CoLA\"], fontsize=6)\n",
    "    plt.legend(loc=\"lower left\", fontsize=5)\n",
    "    plt.grid(True, alpha=0.2)\n",
    "    plt.ylim(0, 1.1)\n",
    "\n",
    "    plt.tight_layout()\n",
    "    savename = \"../figures/investigate/glue_cola_barchart\"\n",
    "    os.makedirs(\"../figures/investigate\", exist_ok=True)\n",
    "    plt.savefig(f\"{savename}.png\", dpi=300)\n",
    "    plt.savefig(f\"{savename}.pdf\", dpi=300)\n",
    "    plt.show()\n",
    "\n",
    "\n",
    "plot_results()"
   ]
  },
  {
   "cell_type": "markdown",
   "metadata": {},
   "source": [
    "# Establish Dataset\n",
    "\n",
    "Runs prompts on OpenRouter to get a clean label"
   ]
  },
  {
   "cell_type": "code",
   "execution_count": 19,
   "metadata": {},
   "outputs": [],
   "source": [
    "def fill_str(sentence):\n",
    "    return f\"Task: Determine if the following sentence is grammatical or ungrammatical based on these criteria:\\nIt must begin with a capital letter.\\nIt must end with proper punctuation (e.g., period, question mark, or exclamation mark).\\nIt must be structurally and semantically coherent in standard English, including correct subject verb agreement, parallel structure, and clarity.\\nIt must not contain spelling errors.\\nSentence: {sentence}\\n\\nInstructions: Only respond with one word, Grammatical or Ungrammatical.\""
   ]
  },
  {
   "cell_type": "code",
   "execution_count": 51,
   "metadata": {},
   "outputs": [],
   "source": [
    "def answer_prompts(\n",
    "    df,\n",
    "):\n",
    "    prompts = list(df[\"prompt\"])\n",
    "    target = list(df[\"target\"])\n",
    "\n",
    "    # Build a base System message to instruct the model to act as a translator\n",
    "    headers = {\n",
    "        \"Authorization\": f\"Bearer {OPENROUTER_KEY}\",\n",
    "        \"Content-Type\": \"application/json\",\n",
    "    }\n",
    "\n",
    "    bar = tqdm(prompts)\n",
    "    models = [\n",
    "        \"openai/chatgpt-4o-latest\",\n",
    "        \"anthropic/claude-3.5-sonnet\",\n",
    "        \"meta-llama/llama-3.1-405b-instruct\",\n",
    "    ]\n",
    "\n",
    "    # Create empty lists to store results\n",
    "    all_prompts = []\n",
    "    all_targets = []\n",
    "    model_answers = {model.split(\"/\")[-1]: [] for model in models}\n",
    "\n",
    "    for i, prompt in enumerate(bar):\n",
    "        all_prompts.append(prompt)\n",
    "        all_targets.append(target[i])\n",
    "\n",
    "        for model in models:\n",
    "            payload = {\n",
    "                \"model\": model,\n",
    "                \"messages\": [{\"role\": \"user\", \"content\": fill_str(prompt)}],\n",
    "                \"top_p\": 1,\n",
    "                \"temperature\": 1,\n",
    "                \"frequency_penalty\": 0,\n",
    "                \"presence_penalty\": 0,\n",
    "                \"repetition_penalty\": 1,\n",
    "                \"top_k\": 0,\n",
    "            }\n",
    "            response = requests.post(\n",
    "                url=\"https://openrouter.ai/api/v1/chat/completions\",\n",
    "                headers=headers,\n",
    "                json=payload,\n",
    "            )\n",
    "\n",
    "            answer = response.json()[\"choices\"][0][\"message\"][\"content\"]\n",
    "            model_answers[model.split(\"/\")[-1]].append(answer)\n",
    "\n",
    "        results_df = pd.DataFrame(\n",
    "            {\"prompt\": all_prompts, \"original_target\": all_targets, **model_answers}\n",
    "        )\n",
    "\n",
    "        # Create directory if it doesn't exist\n",
    "        # Create and save DataFrame after each prompt. after 10 to ensure we don't accidentally overwrite\n",
    "        if i > 10:\n",
    "            os.makedirs(\"data/dataset_investigate\", exist_ok=True)\n",
    "            results_df.to_csv(\n",
    "                \"data/dataset_investigate/87_glue_cola_investigate.csv\", index=False\n",
    "            )\n",
    "        bar.set_postfix({k: model_answers[k][-1] for k in model_answers.keys()})\n",
    "\n",
    "    return results_df"
   ]
  },
  {
   "cell_type": "code",
   "execution_count": 2,
   "metadata": {},
   "outputs": [],
   "source": [
    "def get_data():\n",
    "    df = pd.read_csv(\"results/investigate/87_glue_cola_investigate.csv\")\n",
    "    return df"
   ]
  },
  {
   "cell_type": "markdown",
   "metadata": {},
   "source": [
    "# Generate activations\n",
    "For both the base model and SAE"
   ]
  },
  {
   "cell_type": "code",
   "execution_count": null,
   "metadata": {},
   "outputs": [],
   "source": [
    "model_name = \"gemma-2-9b\"\n",
    "device = \"cuda:1\"\n",
    "if model_name == \"gemma-2-9b\":\n",
    "    model = HookedTransformer.from_pretrained(\"google/gemma-2-9b\", device=device)\n",
    "elif model_name == \"llama-3.1-8b\":\n",
    "    model = HookedTransformer.from_pretrained(\"meta-llama/Llama-3.1-8B\", device=device)\n",
    "else:\n",
    "    raise ValueError(f\"Model {model_name} not supported\")\n",
    "os.makedirs(f\"data/model_activations_{model_name}_OOD\", exist_ok=True)\n",
    "\n",
    "tokenizer = model.tokenizer\n",
    "tokenizer.truncation_side = \"left\"\n",
    "tokenizer.padding_side = \"right\"\n",
    "if model_name == \"gemma-2-9b\":\n",
    "    hook_names = [f\"blocks.{layer}.hook_resid_post\" for layer in [20]]\n",
    "elif model_name == \"llama-3.1-8b\":\n",
    "    hook_names = [\"hook_embed\"] + [\n",
    "        f\"blocks.{layer}.hook_resid_post\" for layer in [8, 16, 24, 31]\n",
    "    ]\n",
    "else:\n",
    "    raise ValueError(f\"Model {model_name} not supported\")"
   ]
  },
  {
   "cell_type": "code",
   "execution_count": null,
   "metadata": {},
   "outputs": [],
   "source": [
    "dataset_names = [\"87_glue_cola\"]\n",
    "max_seq_len = 1024\n",
    "with torch.no_grad():\n",
    "    for dataset_name in tqdm(dataset_names):\n",
    "        file_names = [\n",
    "            f\"data/dataset_investigate/{dataset_name}_{hook_name}.pt\"\n",
    "            for hook_name in hook_names\n",
    "        ]\n",
    "        lengths = None\n",
    "        if all(os.path.exists(file_name) for file_name in file_names):\n",
    "            lengths = [\n",
    "                torch.load(file_name, weights_only=True).shape[0]\n",
    "                for file_name in file_names\n",
    "            ]\n",
    "\n",
    "        dataset = get_data()\n",
    "        text = dataset[\"prompt\"].tolist()\n",
    "\n",
    "        text_lengths = []\n",
    "        for t in text:\n",
    "            text_lengths.append(len(tokenizer(t)[\"input_ids\"]))\n",
    "\n",
    "        if lengths is not None and all(\n",
    "            length == len(text_lengths) for length in lengths\n",
    "        ):\n",
    "            print(\n",
    "                f\"Skipping {dataset_name} because correct length activations already exist\"\n",
    "            )\n",
    "            continue\n",
    "\n",
    "        if lengths is not None:\n",
    "            print(\n",
    "                f\"Generating activations for {dataset_name} (bad existing activations)\"\n",
    "            )\n",
    "            print(lengths, len(text_lengths))\n",
    "        else:\n",
    "            print(\n",
    "                f\"Generating activations for {dataset_name} (no existing activations)\"\n",
    "            )\n",
    "\n",
    "        batch_size = 1\n",
    "        all_activations = {hook_name: [] for hook_name in hook_names}\n",
    "        bar = tqdm(range(0, len(text), batch_size))\n",
    "        for i in bar:\n",
    "            batch_text = text[i : i + batch_size]\n",
    "            batch_lengths = text_lengths[i : i + batch_size]\n",
    "            batch = tokenizer(\n",
    "                batch_text,\n",
    "                padding=True,\n",
    "                truncation=True,\n",
    "                max_length=max_seq_len,\n",
    "                return_tensors=\"pt\",\n",
    "            )\n",
    "            batch = batch.to(device)\n",
    "            logits, cache = model.run_with_cache(\n",
    "                batch[\"input_ids\"], names_filter=hook_names\n",
    "            )\n",
    "            for j, length in enumerate(batch_lengths):\n",
    "                for hook_name in hook_names:\n",
    "                    activation_pos = min(length - 1, max_seq_len - 1)\n",
    "                    all_activations[hook_name].append(\n",
    "                        cache[hook_name][:, activation_pos].cpu()\n",
    "                    )\n",
    "            print(i, len(bar))\n",
    "            del logits, cache\n",
    "            bar.set_description(f\"{len(all_activations[hook_name])}\")\n",
    "\n",
    "        print(\n",
    "            i,\n",
    "            len(all_activations[hook_name]),\n",
    "            len(torch.cat(all_activations[hook_name])),\n",
    "        )\n",
    "\n",
    "        for hook_name, file_name in zip(hook_names, file_names):\n",
    "            all_activations[hook_name] = torch.cat(all_activations[hook_name])\n",
    "            torch.save(all_activations[hook_name], file_name)"
   ]
  },
  {
   "cell_type": "markdown",
   "metadata": {},
   "source": [
    "# Generate SAE Activations "
   ]
  },
  {
   "cell_type": "code",
   "execution_count": 2,
   "metadata": {},
   "outputs": [
    {
     "data": {
      "text/plain": [
       "SAE(\n",
       "  (activation_fn): ReLU()\n",
       "  (hook_sae_input): HookPoint()\n",
       "  (hook_sae_acts_pre): HookPoint()\n",
       "  (hook_sae_acts_post): HookPoint()\n",
       "  (hook_sae_output): HookPoint()\n",
       "  (hook_sae_recons): HookPoint()\n",
       "  (hook_sae_error): HookPoint()\n",
       ")"
      ]
     },
     "execution_count": 2,
     "metadata": {},
     "output_type": "execute_result"
    }
   ],
   "source": [
    "model_name = \"gemma-2-9b\"\n",
    "device = \"cuda:1\"\n",
    "sae_id = get_gemma_2_9b_sae_ids_largest_l0s(layer=20)[-1]\n",
    "sae = load_gemma_2_9b_sae(sae_id).to(device)\n",
    "sae"
   ]
  },
  {
   "cell_type": "code",
   "execution_count": 8,
   "metadata": {},
   "outputs": [
    {
     "name": "stderr",
     "output_type": "stream",
     "text": [
      "  0%|          | 0/1 [00:00<?, ?it/s]"
     ]
    },
    {
     "name": "stderr",
     "output_type": "stream",
     "text": [
      "100%|██████████| 1/1 [00:02<00:00,  2.39s/it]"
     ]
    },
    {
     "name": "stdout",
     "output_type": "stream",
     "text": [
      "torch.Size([1000, 1048576])\n"
     ]
    },
    {
     "name": "stderr",
     "output_type": "stream",
     "text": [
      "\n"
     ]
    }
   ],
   "source": [
    "def save_activations(path, activation):\n",
    "    sparse_tensor = activation.to_sparse()\n",
    "    torch.save(sparse_tensor, path)\n",
    "\n",
    "\n",
    "def save_with_sae(sae):\n",
    "    datasets = [\"87_glue_cola\"]\n",
    "    with torch.no_grad():\n",
    "        for dataset in tqdm(datasets):\n",
    "            path = f\"data/dataset_investigate/sae_{model_name}_{dataset}.pt\"\n",
    "            X, _ = get_xy_glue()\n",
    "            batch_size = 128\n",
    "            X_sae = []\n",
    "            for i in range(0, len(X), batch_size):\n",
    "                batch = X[i : i + batch_size].to(device)\n",
    "                X_sae.append(sae.encode(batch))\n",
    "            X_sae = torch.cat(X_sae).cpu()\n",
    "            print(X_sae.shape)\n",
    "            save_activations(path, X_sae)\n",
    "\n",
    "\n",
    "save_with_sae(sae)"
   ]
  }
 ],
 "metadata": {
  "kernelspec": {
   "display_name": "SAEProbing",
   "language": "python",
   "name": "python3"
  },
  "language_info": {
   "codemirror_mode": {
    "name": "ipython",
    "version": 3
   },
   "file_extension": ".py",
   "mimetype": "text/x-python",
   "name": "python",
   "nbconvert_exporter": "python",
   "pygments_lexer": "ipython3",
   "version": "3.12.3"
  }
 },
 "nbformat": 4,
 "nbformat_minor": 2
}
